{
 "cells": [
  {
   "cell_type": "code",
   "execution_count": null,
   "metadata": {},
   "outputs": [
    {
     "ename": "ModuleNotFoundError",
     "evalue": "No module named 'qwen2_5_model_base'",
     "output_type": "error",
     "traceback": [
      "\u001b[0;31m---------------------------------------------------------------------------\u001b[0m",
      "\u001b[0;31mModuleNotFoundError\u001b[0m                       Traceback (most recent call last)",
      "Cell \u001b[0;32mIn[2], line 2\u001b[0m\n\u001b[1;32m      1\u001b[0m \u001b[38;5;28;01mimport\u001b[39;00m \u001b[38;5;21;01mtorch\u001b[39;00m\n\u001b[0;32m----> 2\u001b[0m \u001b[38;5;28;01mfrom\u001b[39;00m \u001b[38;5;21;01mutils\u001b[39;00m \u001b[38;5;28;01mimport\u001b[39;00m get_model_name_from_path, load_pretrained_model\n\u001b[1;32m      5\u001b[0m model_path \u001b[38;5;241m=\u001b[39m \u001b[38;5;124m\"\u001b[39m\u001b[38;5;124m/mnt/hcufs/VLM-WYZ/Qwen2-VL-Finetune/output/finetune_lora_mlp/checkpoint-3482\u001b[39m\u001b[38;5;124m\"\u001b[39m\n\u001b[1;32m      6\u001b[0m model_base \u001b[38;5;241m=\u001b[39m \u001b[38;5;124m\"\u001b[39m\u001b[38;5;124m/mnt/hcufs/VLM-WYZ/Qwen2-VL-Finetune/qwen2_5_with_custom_vit\u001b[39m\u001b[38;5;124m\"\u001b[39m\n",
      "File \u001b[0;32m/mnt/hcufs/VLM-WYZ/Qwen2-VL-Finetune/src/utils.py:7\u001b[0m\n\u001b[1;32m      5\u001b[0m \u001b[38;5;28;01mimport\u001b[39;00m \u001b[38;5;21;01mos\u001b[39;00m\n\u001b[1;32m      6\u001b[0m \u001b[38;5;28;01mimport\u001b[39;00m \u001b[38;5;21;01mjson\u001b[39;00m\n\u001b[0;32m----> 7\u001b[0m \u001b[38;5;28;01mfrom\u001b[39;00m \u001b[38;5;21;01mtraining\u001b[39;00m\u001b[38;5;21;01m.\u001b[39;00m\u001b[38;5;21;01mmodel\u001b[39;00m \u001b[38;5;28;01mimport\u001b[39;00m VisionTransformer, Qwen2_5_Custom_Vit\n\u001b[1;32m      8\u001b[0m \u001b[38;5;28;01mfrom\u001b[39;00m \u001b[38;5;21;01mqwen2_5_model_base\u001b[39;00m \u001b[38;5;28;01mimport\u001b[39;00m Qwen2_5_VLProcessor\n\u001b[1;32m     11\u001b[0m \u001b[38;5;28;01mdef\u001b[39;00m \u001b[38;5;21mdisable_torch_init\u001b[39m():\n",
      "File \u001b[0;32m/mnt/hcufs/VLM-WYZ/Qwen2-VL-Finetune/src/training/model.py:12\u001b[0m\n\u001b[1;32m     10\u001b[0m \u001b[38;5;28;01mimport\u001b[39;00m \u001b[38;5;21;01msys\u001b[39;00m\n\u001b[1;32m     11\u001b[0m sys\u001b[38;5;241m.\u001b[39mpath\u001b[38;5;241m.\u001b[39mappend(\u001b[38;5;124m\"\u001b[39m\u001b[38;5;124m./\u001b[39m\u001b[38;5;124m\"\u001b[39m)\n\u001b[0;32m---> 12\u001b[0m \u001b[38;5;28;01mfrom\u001b[39;00m \u001b[38;5;21;01mqwen2_5_model_base\u001b[39;00m\u001b[38;5;21;01m.\u001b[39;00m\u001b[38;5;21;01mmodeling_qwen2_5_vl\u001b[39;00m \u001b[38;5;28;01mimport\u001b[39;00m Qwen2_5_VLForConditionalGeneration, Qwen2_5_VLPatchMerger\n\u001b[1;32m     13\u001b[0m \u001b[38;5;28;01mfrom\u001b[39;00m \u001b[38;5;21;01mqwen2_5_model_base\u001b[39;00m\u001b[38;5;21;01m.\u001b[39;00m\u001b[38;5;21;01mprocessing_qwen2_5_vl\u001b[39;00m \u001b[38;5;28;01mimport\u001b[39;00m Qwen2_5_VLProcessor\n\u001b[1;32m     14\u001b[0m \u001b[38;5;28;01mimport\u001b[39;00m \u001b[38;5;21;01mpdb\u001b[39;00m\n",
      "\u001b[0;31mModuleNotFoundError\u001b[0m: No module named 'qwen2_5_model_base'"
     ]
    }
   ],
   "source": [
    "import torch\n",
    "from utils import get_model_name_from_path, load_pretrained_model\n",
    "\n",
    "\n",
    "model_path = \"/mnt/hcufs/VLM-WYZ/Qwen2-VL-Finetune/output/finetune_lora_mlp/checkpoint-3482\"\n",
    "model_base = \"/mnt/hcufs/VLM-WYZ/Qwen2-VL-Finetune/qwen2_5_with_custom_vit\"\n",
    "save = \"/mnt/hcufs/VLM-WYZ/Qwen2-VL-Finetune/output/try\"\n",
    "model_name = get_model_name_from_path(model_path)\n",
    "\n",
    "processor, model = load_pretrained_model(model_path=model_path, model_base=model_base,\n",
    "                                            model_name=model_name, device_map='cpu')"
   ]
  }
 ],
 "metadata": {
  "kernelspec": {
   "display_name": "qwen2-CL",
   "language": "python",
   "name": "python3"
  },
  "language_info": {
   "codemirror_mode": {
    "name": "ipython",
    "version": 3
   },
   "file_extension": ".py",
   "mimetype": "text/x-python",
   "name": "python",
   "nbconvert_exporter": "python",
   "pygments_lexer": "ipython3",
   "version": "3.10.14"
  }
 },
 "nbformat": 4,
 "nbformat_minor": 2
}
